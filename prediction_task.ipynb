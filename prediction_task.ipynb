{
  "cells": [
    {
      "cell_type": "markdown",
      "metadata": {
        "id": "pvn1Ns3n469Q",
        "papermill": {
          "duration": 0.028681,
          "end_time": "2022-04-19T12:25:23.034331",
          "exception": false,
          "start_time": "2022-04-19T12:25:23.005650",
          "status": "completed"
        },
        "tags": []
      },
      "source": [
        "<a id=\"top\"></a>\n",
        "<h1 style=\"font-family:verdana;\"> <center>🏆 FIFA : Exploratory Data Analysis 🏆</center> </h1>\n",
        "<p><center style=\"color:#159364; font-family:cursive;\">Let's start with a little intro</center></p>\n",
        "\n",
        "***\n",
        "<div class=\"alert alert-block alert-info\" style=\"font-size:14px; font-family:verdana; line-height: 1.7em;\">\n",
        "    📌 &nbsp;FIFA 21 is a football simulation video game published by Electronic Arts as part of the FIFA series. It is the 28th installment in the FIFA series, and was released on 06 October 2020 for Microsoft Windows, PlayStation 4, Xbox One, and Nintendo Switch. \n",
        "</div>"
      ]
    },
    {
      "cell_type": "markdown",
      "metadata": {
        "id": "mYOquQ7H77ro",
        "papermill": {
          "duration": 0.025282,
          "end_time": "2022-04-19T12:25:23.087153",
          "exception": false,
          "start_time": "2022-04-19T12:25:23.061871",
          "status": "completed"
        },
        "tags": []
      },
      "source": [
        "![images.jpg](https://images.livemint.com/img/2020/06/19/600x338/Fifa_1592566574619_1592566698613.png)"
      ]
    },
    {
      "cell_type": "markdown",
      "metadata": {
        "papermill": {
          "duration": 0.026542,
          "end_time": "2022-04-19T12:25:23.141231",
          "exception": false,
          "start_time": "2022-04-19T12:25:23.114689",
          "status": "completed"
        },
        "tags": [],
        "id": "D1r1fLORqJBx"
      },
      "source": [
        "# **Table of Contents**\n",
        "\n",
        "<a id = 'max 10'></a>\n",
        "\n",
        "* [Importing Libraries and Exploring Data](#1)\n",
        "\n",
        "\n",
        "* [Data Manipualtion and Cleaning](#2)\n",
        "  * Deleted Useless Columns\n",
        "  * Formed a new column of BMI using Weights and Heights column\n",
        "  * Countered Null values using Get Dummies for Player positions\n",
        "  * For columns like Dribbling, Defendind,Pace etc used Median value\n",
        "\n",
        "\n",
        "* [Data Analysis](#3)\n",
        "   * Relationship of Overall Rating and Value in Euros using Scatter Plot\n",
        "   * Relationship of Potential Rating and Wage in Euros using Scatter Plot\n",
        "   * Count of Preferred Foot and International Reputation using Count Plot\n",
        "   * Distribution of Age and BMI using Histogram\n",
        "   * Relationship of BMI vs Pace and Weight vs Pace using Reg Plot\n",
        "   \n",
        "   \n",
        "   \n",
        "* [Top 20 Analysis](#4)\n",
        "   * Which Country has Max players in Top 20?\n",
        "   * Which Club has Max players in Top 20?\n",
        "   * Which type of player comes most in Top 20?\n",
        "   * Which age belongs to max players in Top 20?\n",
        "   \n",
        "   \n",
        "   \n",
        "* [The Biggest Rivalry - Messi and Ronaldo](#5)\n",
        "   * Comparison of different attributes using **Radar Plot**\n",
        "   \n",
        "   \n",
        "* [Other Top Class Comparisons](#6)\n",
        "   * Comparison of Kevin De Bryne and Luka Modric using Radar Plot\n",
        "   * Comparison of Van Dijk and Sergio Ramos using Radar Plot\n",
        "   * Comparison of Harry Kane and Sergio Aguero using Radar Plot\n",
        "  "
      ]
    },
    {
      "cell_type": "markdown",
      "metadata": {
        "id": "9EfMWTJ23qq_",
        "papermill": {
          "duration": 0.024569,
          "end_time": "2022-04-19T12:25:23.191687",
          "exception": false,
          "start_time": "2022-04-19T12:25:23.167118",
          "status": "completed"
        },
        "tags": []
      },
      "source": [
        "# **1. Importing Libraries & Data Exploration** <a class=\"anchor\" id=\"1\"></a>"
      ]
    },
    {
      "cell_type": "code",
      "execution_count": null,
      "metadata": {
        "execution": {
          "iopub.execute_input": "2022-04-19T12:25:23.246822Z",
          "iopub.status.busy": "2022-04-19T12:25:23.245608Z",
          "iopub.status.idle": "2022-04-19T12:25:24.378053Z",
          "shell.execute_reply": "2022-04-19T12:25:24.379650Z",
          "shell.execute_reply.started": "2022-04-19T12:19:28.596425Z"
        },
        "papermill": {
          "duration": 1.163229,
          "end_time": "2022-04-19T12:25:24.379937",
          "exception": false,
          "start_time": "2022-04-19T12:25:23.216708",
          "status": "completed"
        },
        "tags": [],
        "id": "i9W_Aw16qJBy"
      },
      "outputs": [],
      "source": [
        "import pandas as pd\n",
        "pd.set_option('display.max_columns', None)\n",
        "import numpy as np\n",
        "import matplotlib.pyplot as plt\n",
        "%matplotlib inline\n",
        "from math import pi #Used in Radar Plots\n",
        "import seaborn as sns\n",
        "sns.set_style(style='darkgrid')\n",
        "import warnings\n",
        "warnings.filterwarnings('ignore')"
      ]
    },
    {
      "cell_type": "code",
      "execution_count": null,
      "metadata": {
        "execution": {
          "iopub.execute_input": "2022-04-19T12:25:24.446056Z",
          "iopub.status.busy": "2022-04-19T12:25:24.444989Z",
          "iopub.status.idle": "2022-04-19T12:25:24.949642Z",
          "shell.execute_reply": "2022-04-19T12:25:24.948581Z",
          "shell.execute_reply.started": "2022-04-19T12:19:28.705259Z"
        },
        "id": "L48G0cSR-M1m",
        "papermill": {
          "duration": 0.540308,
          "end_time": "2022-04-19T12:25:24.949799",
          "exception": false,
          "start_time": "2022-04-19T12:25:24.409491",
          "status": "completed"
        },
        "tags": []
      },
      "outputs": [],
      "source": [
        "fifa_21 = pd.read_csv('../input/fifa-21-complete-player-dataset/players_21.csv')"
      ]
    },
    {
      "cell_type": "markdown",
      "metadata": {
        "id": "WQUC39ug35Yr",
        "papermill": {
          "duration": 0.025632,
          "end_time": "2022-04-19T12:25:25.001982",
          "exception": false,
          "start_time": "2022-04-19T12:25:24.976350",
          "status": "completed"
        },
        "tags": []
      },
      "source": [
        "# **2. Data Manipulation & Cleaning** <a class=\"anchor\" id=\"2\"></a>"
      ]
    },
    {
      "cell_type": "code",
      "execution_count": null,
      "metadata": {
        "execution": {
          "iopub.execute_input": "2022-04-19T12:25:25.062189Z",
          "iopub.status.busy": "2022-04-19T12:25:25.061092Z",
          "iopub.status.idle": "2022-04-19T12:25:25.064642Z",
          "shell.execute_reply": "2022-04-19T12:25:25.063959Z",
          "shell.execute_reply.started": "2022-04-19T12:19:29.060541Z"
        },
        "id": "66ILcryns4xg",
        "papermill": {
          "duration": 0.036027,
          "end_time": "2022-04-19T12:25:25.064793",
          "exception": false,
          "start_time": "2022-04-19T12:25:25.028766",
          "status": "completed"
        },
        "tags": []
      },
      "outputs": [],
      "source": [
        "useless_column = ['dob','sofifa_id','player_url','long_name','body_type','real_face','nation_position','loaned_from','nation_jersey_number']"
      ]
    },
    {
      "cell_type": "code",
      "execution_count": null,
      "metadata": {
        "execution": {
          "iopub.execute_input": "2022-04-19T12:25:25.122654Z",
          "iopub.status.busy": "2022-04-19T12:25:25.121928Z",
          "iopub.status.idle": "2022-04-19T12:25:25.152661Z",
          "shell.execute_reply": "2022-04-19T12:25:25.151907Z",
          "shell.execute_reply.started": "2022-04-19T12:19:29.066866Z"
        },
        "id": "DOs1gJb8uDxc",
        "papermill": {
          "duration": 0.060523,
          "end_time": "2022-04-19T12:25:25.152789",
          "exception": false,
          "start_time": "2022-04-19T12:25:25.092266",
          "status": "completed"
        },
        "tags": []
      },
      "outputs": [],
      "source": [
        "fifa_21 = fifa_21.drop(useless_column, axis = 1)"
      ]
    },
    {
      "cell_type": "code",
      "execution_count": null,
      "metadata": {
        "execution": {
          "iopub.execute_input": "2022-04-19T12:25:25.207569Z",
          "iopub.status.busy": "2022-04-19T12:25:25.206663Z",
          "iopub.status.idle": "2022-04-19T12:25:25.237282Z",
          "shell.execute_reply": "2022-04-19T12:25:25.235944Z",
          "shell.execute_reply.started": "2022-04-19T12:19:29.091698Z"
        },
        "id": "stcVl66Fu3O2",
        "papermill": {
          "duration": 0.059441,
          "end_time": "2022-04-19T12:25:25.237440",
          "exception": false,
          "start_time": "2022-04-19T12:25:25.177999",
          "status": "completed"
        },
        "tags": []
      },
      "outputs": [],
      "source": [
        "fifa_21['BMI'] = fifa_21 ['weight_kg'] / (fifa_21['height_cm'] / 100) ** 2"
      ]
    },
    {
      "cell_type": "code",
      "execution_count": null,
      "metadata": {
        "execution": {
          "iopub.execute_input": "2022-04-19T12:25:25.297817Z",
          "iopub.status.busy": "2022-04-19T12:25:25.296066Z",
          "iopub.status.idle": "2022-04-19T12:25:26.115596Z",
          "shell.execute_reply": "2022-04-19T12:25:26.114972Z",
          "shell.execute_reply.started": "2022-04-19T12:19:29.173988Z"
        },
        "id": "j1xICynn2iq1",
        "papermill": {
          "duration": 0.853351,
          "end_time": "2022-04-19T12:25:26.115721",
          "exception": false,
          "start_time": "2022-04-19T12:25:25.262370",
          "status": "completed"
        },
        "tags": []
      },
      "outputs": [],
      "source": [
        "new_player_position = fifa_21['player_positions'].str.get_dummies(sep=',').add_prefix('Position')"
      ]
    },
    {
      "cell_type": "code",
      "execution_count": null,
      "metadata": {
        "execution": {
          "iopub.execute_input": "2022-04-19T12:25:26.170724Z",
          "iopub.status.busy": "2022-04-19T12:25:26.169661Z",
          "iopub.status.idle": "2022-04-19T12:25:26.259440Z",
          "shell.execute_reply": "2022-04-19T12:25:26.258799Z",
          "shell.execute_reply.started": "2022-04-19T12:19:30.055558Z"
        },
        "id": "MVVe5trx4y5L",
        "papermill": {
          "duration": 0.119192,
          "end_time": "2022-04-19T12:25:26.259586",
          "exception": false,
          "start_time": "2022-04-19T12:25:26.140394",
          "status": "completed"
        },
        "tags": []
      },
      "outputs": [],
      "source": [
        "fifa_21 =  pd.concat([fifa_21,new_player_position],axis = 1)\n",
        "fifa_21 =  fifa_21.drop('player_positions',axis=1)"
      ]
    },
    {
      "cell_type": "code",
      "execution_count": null,
      "metadata": {
        "execution": {
          "iopub.execute_input": "2022-04-19T12:25:26.314018Z",
          "iopub.status.busy": "2022-04-19T12:25:26.312988Z",
          "iopub.status.idle": "2022-04-19T12:25:26.319873Z",
          "shell.execute_reply": "2022-04-19T12:25:26.320462Z",
          "shell.execute_reply.started": "2022-04-19T12:19:30.151409Z"
        },
        "id": "pMrZ3NLn53z3",
        "papermill": {
          "duration": 0.035557,
          "end_time": "2022-04-19T12:25:26.320631",
          "exception": false,
          "start_time": "2022-04-19T12:25:26.285074",
          "status": "completed"
        },
        "tags": []
      },
      "outputs": [],
      "source": [
        "columns = ['ls','st','rs','lw','lf','cf','rf','rw','lam','cam','ram','lm','lcm','cm','rcm','rm','lwb','ldm', 'cdm','rdm','rwb','lb','lcb','cb','rcb','rb']"
      ]
    },
    {
      "cell_type": "code",
      "execution_count": null,
      "metadata": {
        "execution": {
          "iopub.execute_input": "2022-04-19T12:25:26.381898Z",
          "iopub.status.busy": "2022-04-19T12:25:26.380931Z",
          "iopub.status.idle": "2022-04-19T12:25:27.942992Z",
          "shell.execute_reply": "2022-04-19T12:25:27.942441Z",
          "shell.execute_reply.started": "2022-04-19T12:19:30.158217Z"
        },
        "id": "EVGVWBKPBpKm",
        "papermill": {
          "duration": 1.594741,
          "end_time": "2022-04-19T12:25:27.943125",
          "exception": false,
          "start_time": "2022-04-19T12:25:26.348384",
          "status": "completed"
        },
        "tags": []
      },
      "outputs": [],
      "source": [
        "for col in columns:\n",
        "  fifa_21[col] = fifa_21[col].str.split('+',n=1,expand = True)[0]\n",
        "        "
      ]
    },
    {
      "cell_type": "code",
      "execution_count": null,
      "metadata": {
        "execution": {
          "iopub.execute_input": "2022-04-19T12:25:28.003116Z",
          "iopub.status.busy": "2022-04-19T12:25:28.002399Z",
          "iopub.status.idle": "2022-04-19T12:25:28.321875Z",
          "shell.execute_reply": "2022-04-19T12:25:28.321192Z",
          "shell.execute_reply.started": "2022-04-19T12:19:31.694341Z"
        },
        "id": "SJ4nkI-PCYrZ",
        "papermill": {
          "duration": 0.352882,
          "end_time": "2022-04-19T12:25:28.322002",
          "exception": false,
          "start_time": "2022-04-19T12:25:27.969120",
          "status": "completed"
        },
        "tags": []
      },
      "outputs": [],
      "source": [
        "fifa_21[columns] = fifa_21[columns].fillna(0)\n",
        "fifa_21[columns] = fifa_21[columns].astype(int)"
      ]
    },
    {
      "cell_type": "code",
      "execution_count": null,
      "metadata": {
        "execution": {
          "iopub.execute_input": "2022-04-19T12:25:28.381024Z",
          "iopub.status.busy": "2022-04-19T12:25:28.380354Z",
          "iopub.status.idle": "2022-04-19T12:25:28.383583Z",
          "shell.execute_reply": "2022-04-19T12:25:28.383013Z",
          "shell.execute_reply.started": "2022-04-19T12:19:31.999871Z"
        },
        "id": "1LavRUItDVFT",
        "papermill": {
          "duration": 0.035616,
          "end_time": "2022-04-19T12:25:28.383713",
          "exception": false,
          "start_time": "2022-04-19T12:25:28.348097",
          "status": "completed"
        },
        "tags": []
      },
      "outputs": [],
      "source": [
        "columns = ['dribbling','defending','physic','passing','shooting','pace']"
      ]
    },
    {
      "cell_type": "code",
      "execution_count": null,
      "metadata": {
        "execution": {
          "iopub.execute_input": "2022-04-19T12:25:28.445102Z",
          "iopub.status.busy": "2022-04-19T12:25:28.444376Z",
          "iopub.status.idle": "2022-04-19T12:25:28.467086Z",
          "shell.execute_reply": "2022-04-19T12:25:28.467641Z",
          "shell.execute_reply.started": "2022-04-19T12:19:32.005893Z"
        },
        "id": "XGueEulUD0Bw",
        "outputId": "0ebe03c3-cf03-4124-d926-785860c24cff",
        "papermill": {
          "duration": 0.056748,
          "end_time": "2022-04-19T12:25:28.467808",
          "exception": false,
          "start_time": "2022-04-19T12:25:28.411060",
          "status": "completed"
        },
        "tags": []
      },
      "outputs": [
        {
          "data": {
            "text/plain": [
              "dribbling    2083\n",
              "defending    2083\n",
              "physic       2083\n",
              "passing      2083\n",
              "shooting     2083\n",
              "pace         2083\n",
              "dtype: int64"
            ]
          },
          "execution_count": 12,
          "metadata": {},
          "output_type": "execute_result"
        }
      ],
      "source": [
        "fifa_21[columns].isnull().sum()"
      ]
    },
    {
      "cell_type": "code",
      "execution_count": null,
      "metadata": {
        "execution": {
          "iopub.execute_input": "2022-04-19T12:25:28.527813Z",
          "iopub.status.busy": "2022-04-19T12:25:28.527041Z",
          "iopub.status.idle": "2022-04-19T12:25:28.536931Z",
          "shell.execute_reply": "2022-04-19T12:25:28.537530Z",
          "shell.execute_reply.started": "2022-04-19T12:19:32.066594Z"
        },
        "id": "oLm6p3vUD6Tz",
        "papermill": {
          "duration": 0.040329,
          "end_time": "2022-04-19T12:25:28.537692",
          "exception": false,
          "start_time": "2022-04-19T12:25:28.497363",
          "status": "completed"
        },
        "tags": []
      },
      "outputs": [],
      "source": [
        "for col in columns:\n",
        "  fifa_21[col] = fifa_21[col].fillna(fifa_21[col].median())"
      ]
    },
    {
      "cell_type": "code",
      "execution_count": null,
      "metadata": {
        "execution": {
          "iopub.execute_input": "2022-04-19T12:25:28.596047Z",
          "iopub.status.busy": "2022-04-19T12:25:28.594725Z",
          "iopub.status.idle": "2022-04-19T12:25:28.627482Z",
          "shell.execute_reply": "2022-04-19T12:25:28.628088Z",
          "shell.execute_reply.started": "2022-04-19T12:19:32.077569Z"
        },
        "id": "91v-e4u1Fr78",
        "papermill": {
          "duration": 0.06336,
          "end_time": "2022-04-19T12:25:28.628263",
          "exception": false,
          "start_time": "2022-04-19T12:25:28.564903",
          "status": "completed"
        },
        "tags": []
      },
      "outputs": [],
      "source": [
        "fifa_21 = fifa_21.fillna(0)"
      ]
    },
    {
      "cell_type": "code",
      "execution_count": null,
      "metadata": {
        "execution": {
          "iopub.execute_input": "2022-04-19T12:25:28.687284Z",
          "iopub.status.busy": "2022-04-19T12:25:28.686527Z",
          "iopub.status.idle": "2022-04-19T12:25:28.720941Z",
          "shell.execute_reply": "2022-04-19T12:25:28.721532Z",
          "shell.execute_reply.started": "2022-04-19T12:19:32.113464Z"
        },
        "id": "0lhJNOaXF8EE",
        "outputId": "7acb52d1-d70a-400b-c839-14d0693cc232",
        "papermill": {
          "duration": 0.06502,
          "end_time": "2022-04-19T12:25:28.721693",
          "exception": false,
          "start_time": "2022-04-19T12:25:28.656673",
          "status": "completed"
        },
        "tags": []
      },
      "outputs": [
        {
          "data": {
            "text/plain": [
              "short_name     0\n",
              "age            0\n",
              "height_cm      0\n",
              "weight_kg      0\n",
              "nationality    0\n",
              "              ..\n",
              "PositionRB     0\n",
              "PositionRM     0\n",
              "PositionRW     0\n",
              "PositionRWB    0\n",
              "PositionST     0\n",
              "Length: 126, dtype: int64"
            ]
          },
          "execution_count": 15,
          "metadata": {},
          "output_type": "execute_result"
        }
      ],
      "source": [
        "fifa_21.isnull().sum() #Verifying it Should be all zero"
      ]
    },
    {
      "cell_type": "code",
      "execution_count": null,
      "metadata": {
        "papermill": {
          "duration": 0.028449,
          "end_time": "2022-04-19T12:25:28.777684",
          "exception": false,
          "start_time": "2022-04-19T12:25:28.749235",
          "status": "completed"
        },
        "tags": [],
        "id": "Gg4jRgl4qJB4"
      },
      "outputs": [],
      "source": [
        ""
      ]
    },
    {
      "cell_type": "markdown",
      "metadata": {
        "papermill": {
          "duration": 0.027951,
          "end_time": "2022-04-19T12:25:28.831594",
          "exception": false,
          "start_time": "2022-04-19T12:25:28.803643",
          "status": "completed"
        },
        "tags": [],
        "id": "_jbT5ERyqJB4"
      },
      "source": [
        "# Starts from here:"
      ]
    },
    {
      "cell_type": "code",
      "execution_count": null,
      "metadata": {
        "execution": {
          "iopub.execute_input": "2022-04-19T12:25:28.897778Z",
          "iopub.status.busy": "2022-04-19T12:25:28.893024Z",
          "iopub.status.idle": "2022-04-19T12:25:28.906519Z",
          "shell.execute_reply": "2022-04-19T12:25:28.905832Z",
          "shell.execute_reply.started": "2022-04-19T12:20:18.342293Z"
        },
        "papermill": {
          "duration": 0.046636,
          "end_time": "2022-04-19T12:25:28.906662",
          "exception": false,
          "start_time": "2022-04-19T12:25:28.860026",
          "status": "completed"
        },
        "tags": [],
        "id": "uzcWqRQzqJB5",
        "outputId": "3dad948b-4acf-4ef6-ad6d-4d0ba9791653"
      },
      "outputs": [
        {
          "name": "stdout",
          "output_type": "stream",
          "text": [
            "(18944, 6)\n"
          ]
        }
      ],
      "source": [
        "input_parameters = ['overall', 'potential', 'passing', 'pace', 'defending']\n",
        "columns = input_parameters + ['wage_eur']\n",
        "fifa = pd.DataFrame(fifa_21, columns = columns)\n",
        "print(fifa.shape)"
      ]
    },
    {
      "cell_type": "code",
      "source": [
        "from google.colab import drive\n",
        "drive.mount('/content/drive')"
      ],
      "metadata": {
        "id": "CEaUBYogfEgr"
      },
      "execution_count": null,
      "outputs": []
    },
    {
      "cell_type": "code",
      "execution_count": null,
      "metadata": {
        "execution": {
          "iopub.execute_input": "2022-04-19T12:25:28.963557Z",
          "iopub.status.busy": "2022-04-19T12:25:28.962799Z",
          "iopub.status.idle": "2022-04-19T12:25:28.974425Z",
          "shell.execute_reply": "2022-04-19T12:25:28.973577Z",
          "shell.execute_reply.started": "2022-04-19T12:20:18.499236Z"
        },
        "papermill": {
          "duration": 0.041237,
          "end_time": "2022-04-19T12:25:28.974565",
          "exception": false,
          "start_time": "2022-04-19T12:25:28.933328",
          "status": "completed"
        },
        "tags": [],
        "id": "RWpr7JvlqJB5",
        "outputId": "e21d0675-4ade-4fc7-db09-265974ef567c"
      },
      "outputs": [
        {
          "name": "stdout",
          "output_type": "stream",
          "text": [
            "(18944, 6)\n"
          ]
        }
      ],
      "source": [
        "fifa = fifa.dropna()\n",
        "print(fifa.shape)"
      ]
    },
    {
      "cell_type": "code",
      "execution_count": null,
      "metadata": {
        "execution": {
          "iopub.execute_input": "2022-04-19T12:25:29.036559Z",
          "iopub.status.busy": "2022-04-19T12:25:29.035832Z",
          "iopub.status.idle": "2022-04-19T12:25:29.153887Z",
          "shell.execute_reply": "2022-04-19T12:25:29.153295Z",
          "shell.execute_reply.started": "2022-04-19T12:20:18.615505Z"
        },
        "papermill": {
          "duration": 0.151273,
          "end_time": "2022-04-19T12:25:29.154008",
          "exception": false,
          "start_time": "2022-04-19T12:25:29.002735",
          "status": "completed"
        },
        "tags": [],
        "id": "gvxPgaPJqJB5"
      },
      "outputs": [],
      "source": [
        "from sklearn.model_selection import train_test_split\n",
        "\n",
        "train, test = train_test_split(fifa, test_size=0.2)"
      ]
    },
    {
      "cell_type": "code",
      "execution_count": null,
      "metadata": {
        "execution": {
          "iopub.execute_input": "2022-04-19T12:25:29.212840Z",
          "iopub.status.busy": "2022-04-19T12:25:29.212065Z",
          "iopub.status.idle": "2022-04-19T12:25:29.223394Z",
          "shell.execute_reply": "2022-04-19T12:25:29.224021Z",
          "shell.execute_reply.started": "2022-04-19T12:20:18.783588Z"
        },
        "papermill": {
          "duration": 0.043591,
          "end_time": "2022-04-19T12:25:29.224179",
          "exception": false,
          "start_time": "2022-04-19T12:25:29.180588",
          "status": "completed"
        },
        "tags": [],
        "id": "SjBeMZ8cqJB5",
        "outputId": "9e787c80-28e6-4a8f-a776-2a52be455ff9"
      },
      "outputs": [
        {
          "name": "stdout",
          "output_type": "stream",
          "text": [
            "(15155, 5)\n",
            "(15155, 1)\n"
          ]
        }
      ],
      "source": [
        " \n",
        "X_train = train[input_parameters]\n",
        "y_train = train[['wage_eur']]\n",
        "\n",
        "X_test = test[input_parameters]\n",
        "y_test = test[['wage_eur']]\n",
        "\n",
        "print(X_train.shape)\n",
        "print(y_train.shape)"
      ]
    },
    {
      "cell_type": "code",
      "execution_count": null,
      "metadata": {
        "execution": {
          "iopub.execute_input": "2022-04-19T12:25:29.282941Z",
          "iopub.status.busy": "2022-04-19T12:25:29.282243Z",
          "iopub.status.idle": "2022-04-19T12:25:29.307285Z",
          "shell.execute_reply": "2022-04-19T12:25:29.307876Z",
          "shell.execute_reply.started": "2022-04-19T12:20:18.906594Z"
        },
        "papermill": {
          "duration": 0.055175,
          "end_time": "2022-04-19T12:25:29.308034",
          "exception": false,
          "start_time": "2022-04-19T12:25:29.252859",
          "status": "completed"
        },
        "tags": [],
        "id": "XZCiGYC0qJB5"
      },
      "outputs": [],
      "source": [
        "from sklearn.preprocessing import StandardScaler\n",
        "sc_X = StandardScaler()\n",
        "sc_y = StandardScaler()\n",
        "X_train = sc_X.fit_transform(X_train)\n",
        "y_train = sc_y.fit_transform(y_train)\n",
        "\n",
        "X_test = sc_X.fit_transform(X_test)\n",
        "y_test = sc_y.fit_transform(y_test)"
      ]
    },
    {
      "cell_type": "code",
      "execution_count": null,
      "metadata": {
        "execution": {
          "iopub.execute_input": "2022-04-19T12:25:29.369125Z",
          "iopub.status.busy": "2022-04-19T12:25:29.368403Z",
          "iopub.status.idle": "2022-04-19T12:25:29.453048Z",
          "shell.execute_reply": "2022-04-19T12:25:29.452461Z",
          "shell.execute_reply.started": "2022-04-19T12:23:42.246119Z"
        },
        "papermill": {
          "duration": 0.11607,
          "end_time": "2022-04-19T12:25:29.453180",
          "exception": false,
          "start_time": "2022-04-19T12:25:29.337110",
          "status": "completed"
        },
        "tags": [],
        "id": "CIEuDiYGqJB6"
      },
      "outputs": [],
      "source": [
        "import numpy as np\n",
        "import matplotlib.pyplot as plt\n",
        "import pandas as pd\n",
        "from sklearn.linear_model import LinearRegression\n",
        "from sklearn.metrics import r2_score\n",
        "from sklearn.svm import SVR\n",
        "from sklearn.metrics import mean_squared_error"
      ]
    },
    {
      "cell_type": "code",
      "execution_count": null,
      "metadata": {
        "execution": {
          "iopub.execute_input": "2022-04-19T12:25:29.516192Z",
          "iopub.status.busy": "2022-04-19T12:25:29.515513Z",
          "iopub.status.idle": "2022-04-19T12:25:29.585159Z",
          "shell.execute_reply": "2022-04-19T12:25:29.584464Z",
          "shell.execute_reply.started": "2022-04-19T12:23:24.481237Z"
        },
        "papermill": {
          "duration": 0.104846,
          "end_time": "2022-04-19T12:25:29.585338",
          "exception": false,
          "start_time": "2022-04-19T12:25:29.480492",
          "status": "completed"
        },
        "tags": [],
        "id": "W0FSSaiWqJB6",
        "outputId": "2d67b925-f749-4145-fc6c-d33310fdb0e1"
      },
      "outputs": [
        {
          "data": {
            "text/plain": [
              "LinearRegression()"
            ]
          },
          "execution_count": 22,
          "metadata": {},
          "output_type": "execute_result"
        }
      ],
      "source": [
        "regressor = LinearRegression()\n",
        "regressor.fit(X_train, y_train)"
      ]
    },
    {
      "cell_type": "code",
      "execution_count": null,
      "metadata": {
        "execution": {
          "iopub.execute_input": "2022-04-19T12:25:29.653467Z",
          "iopub.status.busy": "2022-04-19T12:25:29.652769Z",
          "iopub.status.idle": "2022-04-19T12:25:29.660063Z",
          "shell.execute_reply": "2022-04-19T12:25:29.660948Z",
          "shell.execute_reply.started": "2022-04-19T12:23:24.747470Z"
        },
        "papermill": {
          "duration": 0.043694,
          "end_time": "2022-04-19T12:25:29.661122",
          "exception": false,
          "start_time": "2022-04-19T12:25:29.617428",
          "status": "completed"
        },
        "tags": [],
        "id": "VKwbSdmwqJB6",
        "outputId": "74cb4015-8eef-42fa-d47d-b041b2504c31"
      },
      "outputs": [
        {
          "name": "stdout",
          "output_type": "stream",
          "text": [
            "0.3574597978464925\n"
          ]
        }
      ],
      "source": [
        "y_pred = regressor.predict(X_test)\n",
        "print(r2_score(y_test, y_pred))"
      ]
    },
    {
      "cell_type": "code",
      "execution_count": null,
      "metadata": {
        "execution": {
          "iopub.execute_input": "2022-04-19T12:25:29.724692Z",
          "iopub.status.busy": "2022-04-19T12:25:29.723940Z",
          "iopub.status.idle": "2022-04-19T12:25:29.732328Z",
          "shell.execute_reply": "2022-04-19T12:25:29.733110Z",
          "shell.execute_reply.started": "2022-04-19T12:23:46.867862Z"
        },
        "papermill": {
          "duration": 0.041905,
          "end_time": "2022-04-19T12:25:29.733343",
          "exception": false,
          "start_time": "2022-04-19T12:25:29.691438",
          "status": "completed"
        },
        "tags": [],
        "id": "w1gzZPMIqJB6",
        "outputId": "e96f8ba1-a454-4fa2-da37-0c95fe709475"
      },
      "outputs": [
        {
          "name": "stdout",
          "output_type": "stream",
          "text": [
            "0.6425402021535073\n"
          ]
        }
      ],
      "source": [
        "print(mean_squared_error(y_test, y_pred))"
      ]
    },
    {
      "cell_type": "code",
      "execution_count": null,
      "metadata": {
        "execution": {
          "iopub.execute_input": "2022-04-19T12:25:29.798546Z",
          "iopub.status.busy": "2022-04-19T12:25:29.797401Z",
          "iopub.status.idle": "2022-04-19T12:25:37.386551Z",
          "shell.execute_reply": "2022-04-19T12:25:37.385965Z",
          "shell.execute_reply.started": "2022-04-19T12:23:49.030659Z"
        },
        "papermill": {
          "duration": 7.62259,
          "end_time": "2022-04-19T12:25:37.386677",
          "exception": false,
          "start_time": "2022-04-19T12:25:29.764087",
          "status": "completed"
        },
        "tags": [],
        "id": "2XEeTbXUqJB6",
        "outputId": "f5c1cc48-7bb7-4c43-f355-196329a93d40"
      },
      "outputs": [
        {
          "data": {
            "text/plain": [
              "SVR()"
            ]
          },
          "execution_count": 25,
          "metadata": {},
          "output_type": "execute_result"
        }
      ],
      "source": [
        "regressor = SVR(kernel = 'rbf')\n",
        "regressor.fit(X_train, y_train)"
      ]
    },
    {
      "cell_type": "code",
      "execution_count": null,
      "metadata": {
        "execution": {
          "iopub.execute_input": "2022-04-19T12:25:37.451982Z",
          "iopub.status.busy": "2022-04-19T12:25:37.451282Z",
          "iopub.status.idle": "2022-04-19T12:25:38.069770Z",
          "shell.execute_reply": "2022-04-19T12:25:38.070303Z",
          "shell.execute_reply.started": "2022-04-19T12:23:55.988801Z"
        },
        "papermill": {
          "duration": 0.654749,
          "end_time": "2022-04-19T12:25:38.070476",
          "exception": false,
          "start_time": "2022-04-19T12:25:37.415727",
          "status": "completed"
        },
        "tags": [],
        "id": "sOZMosILqJB7",
        "outputId": "946eb0f4-bb4c-445c-d9fc-304e64943e1f"
      },
      "outputs": [
        {
          "name": "stdout",
          "output_type": "stream",
          "text": [
            "0.7483311568500739\n"
          ]
        }
      ],
      "source": [
        "y_pred = regressor.predict(X_test)\n",
        "print(r2_score(y_test, y_pred))"
      ]
    },
    {
      "cell_type": "code",
      "execution_count": null,
      "metadata": {
        "execution": {
          "iopub.execute_input": "2022-04-19T12:25:38.133783Z",
          "iopub.status.busy": "2022-04-19T12:25:38.132990Z",
          "iopub.status.idle": "2022-04-19T12:25:38.136500Z",
          "shell.execute_reply": "2022-04-19T12:25:38.135895Z",
          "shell.execute_reply.started": "2022-04-19T12:23:56.585216Z"
        },
        "papermill": {
          "duration": 0.03754,
          "end_time": "2022-04-19T12:25:38.136620",
          "exception": false,
          "start_time": "2022-04-19T12:25:38.099080",
          "status": "completed"
        },
        "tags": [],
        "id": "MsbRsw7nqJB7",
        "outputId": "72bb3f76-6be2-4b35-df5f-df9ecb1ecbff"
      },
      "outputs": [
        {
          "name": "stdout",
          "output_type": "stream",
          "text": [
            "0.251668843149926\n"
          ]
        }
      ],
      "source": [
        "print(mean_squared_error(y_test, y_pred))"
      ]
    },
    {
      "cell_type": "code",
      "source": [
        "ar = np.array([[[1],[2],[3]], [[2.01],[4.03],[6.04]]])\n",
        "x = ar[0,:]\n",
        "#xTest = np.array([[4],[5],[6]])\n",
        "#ytest =  np.array([[9],[8.5],[14]])\n",
        "preds = reg.predict(X_test)\n",
        "er = []\n",
        "for i in range(len(y_test)): \n",
        "  x = (y_test[i] - preds[i]) **2\n",
        "  er.append(x)\n",
        "v = np.var(er)\n",
        "print (\"variance\", v)"
      ],
      "metadata": {
        "colab": {
          "base_uri": "https://localhost:8080/",
          "height": 235
        },
        "id": "kKgDKMXrs4gT",
        "outputId": "cf4582b6-b8f0-4f9f-c7cc-3776f6d6550c"
      },
      "execution_count": null,
      "outputs": [
        {
          "output_type": "error",
          "ename": "NameError",
          "evalue": "ignored",
          "traceback": [
            "\u001b[0;31m---------------------------------------------------------------------------\u001b[0m",
            "\u001b[0;31mNameError\u001b[0m                                 Traceback (most recent call last)",
            "\u001b[0;32m<ipython-input-2-9f4decc6ef9d>\u001b[0m in \u001b[0;36m<module>\u001b[0;34m()\u001b[0m\n\u001b[1;32m      1\u001b[0m \u001b[0;34m\u001b[0m\u001b[0m\n\u001b[0;32m----> 2\u001b[0;31m \u001b[0mx\u001b[0m \u001b[0;34m=\u001b[0m \u001b[0mar\u001b[0m\u001b[0;34m[\u001b[0m\u001b[0;36m0\u001b[0m\u001b[0;34m,\u001b[0m\u001b[0;34m:\u001b[0m\u001b[0;34m]\u001b[0m\u001b[0;34m\u001b[0m\u001b[0;34m\u001b[0m\u001b[0m\n\u001b[0m\u001b[1;32m      3\u001b[0m \u001b[0;31m#xTest = np.array([[4],[5],[6]])\u001b[0m\u001b[0;34m\u001b[0m\u001b[0;34m\u001b[0m\u001b[0;34m\u001b[0m\u001b[0m\n\u001b[1;32m      4\u001b[0m \u001b[0;31m#ytest =  np.array([[9],[8.5],[14]])\u001b[0m\u001b[0;34m\u001b[0m\u001b[0;34m\u001b[0m\u001b[0;34m\u001b[0m\u001b[0m\n\u001b[1;32m      5\u001b[0m \u001b[0mpreds\u001b[0m \u001b[0;34m=\u001b[0m \u001b[0mreg\u001b[0m\u001b[0;34m.\u001b[0m\u001b[0mpredict\u001b[0m\u001b[0;34m(\u001b[0m\u001b[0mX_test\u001b[0m\u001b[0;34m)\u001b[0m\u001b[0;34m\u001b[0m\u001b[0;34m\u001b[0m\u001b[0m\n",
            "\u001b[0;31mNameError\u001b[0m: name 'ar' is not defined"
          ]
        }
      ]
    },
    {
      "cell_type": "code",
      "source": [
        ""
      ],
      "metadata": {
        "id": "z-9Mb6pPv5ya"
      },
      "execution_count": null,
      "outputs": []
    }
  ],
  "metadata": {
    "kernelspec": {
      "display_name": "Python 3",
      "language": "python",
      "name": "python3"
    },
    "language_info": {
      "codemirror_mode": {
        "name": "ipython",
        "version": 3
      },
      "file_extension": ".py",
      "mimetype": "text/x-python",
      "name": "python",
      "nbconvert_exporter": "python",
      "pygments_lexer": "ipython3",
      "version": "3.7.6"
    },
    "papermill": {
      "duration": 20.540767,
      "end_time": "2022-04-19T12:25:38.275102",
      "environment_variables": {},
      "exception": null,
      "input_path": "__notebook__.ipynb",
      "output_path": "__notebook__.ipynb",
      "parameters": {},
      "start_time": "2022-04-19T12:25:17.734335",
      "version": "2.1.0"
    },
    "colab": {
      "name": "prediction_task.ipynb",
      "provenance": []
    }
  },
  "nbformat": 4,
  "nbformat_minor": 0
}