{
  "cells": [
    {
      "cell_type": "code",
      "execution_count": null,
      "metadata": {
        "id": "GsaR_28vurJb"
      },
      "outputs": [],
      "source": [
        "import pandas as py\n",
        "df=py.read_csv(r\"/content/players_21.csv\")\n"
      ]
    },
    {
      "cell_type": "code",
      "execution_count": null,
      "metadata": {
        "id": "Ou9oc60IyUcn"
      },
      "outputs": [],
      "source": [
        "##for seperating leagues\n",
        "df.new=df.query('league_name==\"English Premier League\"')\n",
        "print(df.new);\n",
        "df.new.to_csv(\"epl.csv\")"
      ]
    },
    {
      "cell_type": "code",
      "execution_count": null,
      "metadata": {
        "colab": {
          "background_save": true
        },
        "id": "7bgjVrw12V5l"
      },
      "outputs": [],
      "source": [
        "def league_seperator(lg_name, path):\n",
        "  df=py.read_csv(path)\n",
        "  df.new=df.query('league_name'==lg_name)\n",
        "  print(df.new);\n",
        "  df.new.to_csv(\"spanish_league.csv\")\n",
        "\n"
      ]
    },
    {
      "cell_type": "code",
      "source": [
        "from google.colab import drive\n",
        "drive.mount('/content/drive')"
      ],
      "metadata": {
        "id": "O1Ud5cpfja8v"
      },
      "execution_count": null,
      "outputs": []
    },
    {
      "cell_type": "code",
      "execution_count": null,
      "metadata": {
        "colab": {
          "background_save": true
        },
        "id": "3A0qXERG2rwV"
      },
      "outputs": [],
      "source": [
        ""
      ]
    },
    {
      "cell_type": "code",
      "execution_count": null,
      "metadata": {
        "colab": {
          "background_save": true
        },
        "id": "XfF56k2Lx5B6"
      },
      "outputs": [],
      "source": [
        "##function for our sample\n",
        "some_leagues = ('Spain Primera Division', 'Italian Serie A',  'German 1. Bundesliga', 'French Ligue 1', 'English Premier League')\n",
        "\n",
        "data_new = df.loc[df['league_name'].isin(some_leagues) ]\n",
        "##df.new=df.query('league_name==\"English Premier League\"','league_name==\"\"Spain Primera Division\"\"')\n",
        "print(data_new);\n",
        "##df.new.to_csv(\"epl.csv\")\n",
        "data_new.to_csv(\"sample.csv\")\n"
      ]
    },
    {
      "cell_type": "code",
      "execution_count": null,
      "metadata": {
        "colab": {
          "background_save": true
        },
        "id": "Cskb4epwzvNc"
      },
      "outputs": [],
      "source": [
        "#df.to_csv('file_name.csv','league_name==\"Spain Primera Division\"')"
      ]
    },
    {
      "cell_type": "code",
      "execution_count": null,
      "metadata": {
        "colab": {
          "background_save": true
        },
        "id": "h3ZxM6rp0hQY"
      },
      "outputs": [],
      "source": [
        "df.loc[[:, [\"column1\", \"column2\", \"column3\"]]"
      ]
    },
    {
      "cell_type": "code",
      "execution_count": null,
      "metadata": {
        "colab": {
          "background_save": true
        },
        "id": "oTtwXQuI1jl1"
      },
      "outputs": [],
      "source": [
        "## for seperating goalkeepers\n",
        "df.new=df.query('player_positions!=\"GK\"')\n",
        "print(df.new);\n",
        "df.new.to_csv(\"players(outfield).csv\")"
      ]
    },
    {
      "cell_type": "code",
      "execution_count": null,
      "metadata": {
        "id": "E4W7F8peHN4D"
      },
      "outputs": [],
      "source": [
        "##for checking skewness of our dataset\n",
        "\n",
        "#importing library\n",
        "import pandas as pd\n",
        "#reading the dataset\n",
        "cp = pd.read_csv('/content/drive/MyDrive/English notes/Frequency of sal_rat.csv')\n",
        "#taking the subset of the data\n",
        "cp=cp[['overall']]\n",
        "cp.replace(to_replace=0, value = cp.median(), inplace = True)\n",
        "#printing first five rows of the data\n",
        "cp.head()\n",
        "cp.skew()"
      ]
    },
    {
      "cell_type": "code",
      "execution_count": null,
      "metadata": {
        "id": "8dNW-h-LJfeU"
      },
      "outputs": [],
      "source": [
        "#importing necessary libraries\n",
        "import scipy.stats as stats\n",
        "import pylab"
      ]
    },
    {
      "cell_type": "code",
      "execution_count": null,
      "metadata": {
        "id": "NSnNbjaiJgmj"
      },
      "outputs": [],
      "source": [
        "def normality(data,feature):\n",
        "    plt.figure(figsize=(10,5))\n",
        "    plt.subplot(1,2,1)\n",
        "    sns.kdeplot(data[feature])\n",
        "    plt.subplot(1,2,2)\n",
        "    stats.probplot(data[feature],plot=pylab)\n",
        "    plt.show()"
      ]
    },
    {
      "cell_type": "code",
      "execution_count": null,
      "metadata": {
        "id": "iDLjVhdoJFNe"
      },
      "outputs": [],
      "source": [
        "##box_cox\n",
        "\n",
        "cp['wage_Boxcox'],parameters=stats.boxcox(cp['overall'])\n",
        "normality(cp,'wage_Boxcox')"
      ]
    }
  ],
  "metadata": {
    "colab": {
      "name": "league_seperator.ipynb",
      "provenance": []
    },
    "kernelspec": {
      "display_name": "Python 3",
      "name": "python3"
    },
    "language_info": {
      "name": "python"
    }
  },
  "nbformat": 4,
  "nbformat_minor": 0
}